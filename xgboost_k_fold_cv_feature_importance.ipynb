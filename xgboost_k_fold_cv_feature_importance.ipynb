{
  "metadata": {
    "kernelspec": {
      "language": "python",
      "display_name": "Python 3",
      "name": "python3"
    },
    "language_info": {
      "pygments_lexer": "ipython3",
      "nbconvert_exporter": "python",
      "version": "3.6.4",
      "file_extension": ".py",
      "codemirror_mode": {
        "name": "ipython",
        "version": 3
      },
      "name": "python",
      "mimetype": "text/x-python"
    },
    "colab": {
      "name": "xgboost-k-fold-cv-feature-importance.ipynb",
      "provenance": [],
      "collapsed_sections": [
        "yPWvAb9aNiB5"
      ],
      "include_colab_link": true
    }
  },
  "nbformat_minor": 0,
  "nbformat": 4,
  "cells": [
    {
      "cell_type": "markdown",
      "metadata": {
        "id": "view-in-github",
        "colab_type": "text"
      },
      "source": [
        "<a href=\"https://colab.research.google.com/github/avithal/Xgboost/blob/main/xgboost_k_fold_cv_feature_importance.ipynb\" target=\"_parent\"><img src=\"https://colab.research.google.com/assets/colab-badge.svg\" alt=\"Open In Colab\"/></a>"
      ]
    },
    {
      "cell_type": "markdown",
      "source": [
        "<a class=\"anchor\" id=\"0\"></a>\n",
        "# **XGBoost + k-fold CV + Feature Importance**\n",
        "\n",
        "\n",
        "Hello friends,\n",
        "\n",
        "\n",
        "As we all know that more than a half of Kaggle competitions were won using only one algorithm - **XGBoost**. It is one of the most popular machine learning algorithm these days. It works well for both types of tasks - regression and classification.\n",
        "\n",
        "So, in this kernel, we will discuss XGBoost and develop a simple baseline XGBoost model with Python."
      ],
      "metadata": {
        "id": "Sfb_nXIbNiBv"
      }
    },
    {
      "cell_type": "markdown",
      "source": [
        "<a class=\"anchor\" id=\"0.1\"></a>\n",
        "# **Table of Contents**\n",
        "\n",
        "- 1 [Introduction to XGBoost Algorithm](#1)\n",
        "    - 1.1 [Evolution of tree-based algorithm](#1.1)\n",
        "    - 1.2 [Main features of XGBoost](#1.2)\n",
        "- 2 [Bagging vs Boosting](#2)\n",
        "    - 2.1 [Bagging](#2.1)\n",
        "    - 2.2 [Boosting](#2.2)\n",
        "- 3 [XGBoost algorithm intuition](#3)\n",
        "    - 3.1 [Gradient Boosting](#3.1)\n",
        "    - 3.2 [Gradient Boosted Trees](#3.2)\n",
        "    - 3.3 [Extreme Gradient Boosting (XGBoost)](#3.3)\n",
        "- 4 [Implementing XGBoost in Python](#4)\n",
        "    -\t4.1 [Load libraries](#4.1)\n",
        "    -\t4.2 [Read dataset](#4.2)\n",
        "    -\t4.3 [EDA](#4.3)\n",
        "        - 4.3.1 [Shape of dataset](#4.3.1)\n",
        "        - 4.3.2 [Preview dataset](#4.3.2)\n",
        "        - 4.3.3 [Summary of dataset](#4.3.3)\n",
        "        - 4.3.4 [Summary statistics of dataset](#4.3.4)\n",
        "        - 4.3.5 [Check for missing values](#4.3.5)\n",
        "    -\t4.4 [Declare feature vector and target variable](#4.4)\n",
        "    -\t4.5 [Split data into separate training and test set](#4.5)\n",
        "    -\t4.6 [Train the XGBoost Classifier](#4.6)\n",
        "    -\t4.7 [Make predictions with XGBoost Classifier](#4.7)\n",
        "    -\t4.8 [Check accuracy score](#4.8)\n",
        "- 5 [k-fold Cross Validation using XGBoost](#5)\n",
        "- 6 [Visualizing Feature Importance with XGBoost](#6)\n",
        "- 7 [Results and Conclusion](#7)\n",
        "- 8 [References](#8)"
      ],
      "metadata": {
        "id": "USBN5d-qNiBy"
      }
    },
    {
      "cell_type": "markdown",
      "source": [
        "# **1. Introduction to XGBoost Algorithm** <a class=\"anchor\" id=\"1\"></a>\n",
        "\n",
        "[Table of Contents](#0.1)\n",
        "\n",
        "\n",
        "- **XGBoost** stands for **Extreme Gradient Boosting.**\n",
        "\n",
        "- It is a performant machine learning library based on the paper [Greedy Function Approximation: A Gradient Boosting Machine, by Friedman](https://statweb.stanford.edu/~jhf/ftp/trebst.pdf)\n",
        "\n",
        "- It is an open source machine learning library providing a high-performance implementation of gradient boosted decision trees.\n",
        "\n",
        "- It is originally written in C++ and is comparatively faster than other ensemble classifiers.\n",
        "\n",
        "- It belongs to a family of boosting algorithms and uses the **gradient boosting (GBM)** framework at its core. \n",
        "\n",
        "- XGBoost implements a [Gradient Boosting algorithm](https://en.wikipedia.org/wiki/Gradient_boosting) based on decision trees.\n",
        "\n",
        "- So, to understand XGBoost completely, we need to understand **Gradient Boosting Algorithm** (discussed later).\n",
        "\n",
        "- Please follow the links below for more in-depth discussion on XGBoost.\n",
        "\n",
        "\n",
        "[XGBoost Official Documentation](https://xgboost.readthedocs.io/en/latest/)\n",
        "\n",
        "\n",
        "[XGBoost from Wikipedia](https://en.wikipedia.org/wiki/XGBoost)"
      ],
      "metadata": {
        "id": "a4utAZx-NiBz"
      }
    },
    {
      "cell_type": "markdown",
      "source": [
        "## **1.1 Evolution of tree-based algorithms** <a class=\"anchor\" id=\"1.1\"></a>\n",
        "\n",
        "[Table of Contents](#0.1)\n",
        "\n",
        "\n",
        "- The tree based algorithms have evolved over the years.\n",
        "\n",
        "- XGBoost belongs to a family of tree-based algorithms.\n",
        "\n",
        "- Please see the chart below for the evolution of tree-based algorithms over the years.\n",
        "-- a good explanation of differnce between bagging and boosting is given in  is given in (https://www.upgrad.com/blog/bagging-vs-boosting/#:~:text=Bagging%20is%20a%20method%20of,fitting%20issues%20in%20a%20model.\n",
        ")"
      ],
      "metadata": {
        "id": "Bbg3BSSbNiB0"
      }
    },
    {
      "cell_type": "markdown",
      "source": [
        "\n",
        "\n",
        "![Evolution of tree-based algorithms](https://miro.medium.com/max/925/1*QJZ6W-Pck_W7RlIDwUIN9Q.jpeg)"
      ],
      "metadata": {
        "id": "UcVg_MnFNiB0"
      }
    },
    {
      "cell_type": "markdown",
      "source": [
        "## **1.2 Main features of XGBoost** <a class=\"anchor\" id=\"1.2\"></a>\n",
        "\n",
        "[Table of Contents](#0.1)\n",
        "\n",
        "\n",
        "- The primary reasons we should use this algorithm are its **accuracy**, **efficiency** and **feasibility**. \n",
        "\n",
        "- It is a linear model and a [tree learning](https://en.wikipedia.org/wiki/Decision_tree_learning) algorithm that does parallel computations on a single machine. \n",
        "\n",
        "- It also has extra features for doing **cross validation** and computing **feature importance**. \n",
        "\n",
        "- Given below are some of the main features of the model:\n",
        "\n",
        "  - **Sparsity** : It accepts sparse input for tree booster and linear booster.\n",
        "  \n",
        "  - **Customization** : It supports customized objective and evaluation functions.\n",
        "  \n",
        "  - **DMatrix** : Its optimized data structure that improves its performance and efficiency."
      ],
      "metadata": {
        "id": "Bp6lLsFpNiB0"
      }
    },
    {
      "cell_type": "markdown",
      "source": [
        "# **2. Bagging Vs Boosting**  <a class=\"anchor\" id=\"2\"></a>\n",
        "\n",
        "[Table of Contents](#0.1)\n",
        "\n",
        "\n",
        "- To know bagging and boosting, we need to know ensemble methods.\n",
        "\n",
        "- Ensemble methods combine several decision trees to produce better predictive performance than utilizing a single decision tree. \n",
        "\n",
        "- The main principle behind the ensemble model is that a group of weak learners come together to form a strong learner.\n",
        "\n",
        "- Now, we will talk about two techniques to perform ensemble decision trees. These are as follows:-\n",
        "\n",
        "  - 1. Bagging\n",
        "\n",
        "  - 2. Boosting\n",
        "  \n",
        "- Please refer to my previous kernel - [Bagging vs Boosting](https://www.kaggle.com/prashant111/bagging-vs-boosting) for detailed discussion on Bagging and Boosting.\n",
        "\n",
        "[Bagging vs Boosting](https://www.kaggle.com/prashant111/bagging-vs-boosting)"
      ],
      "metadata": {
        "id": "UP4zaYUoNiB1"
      }
    },
    {
      "cell_type": "markdown",
      "source": [
        "## **2.1 Bagging** <a class=\"anchor\" id=\"2.1\"></a>\n",
        "\n",
        "[Table of Contents](#0.1)\n",
        "\n",
        "- Bagging (or Bootstrap Aggregation), is a simple and very powerful ensemble method. \n",
        "\n",
        "- Bagging is the application of the Bootstrap procedure to a high-variance machine learning algorithm, typically decision trees.\n",
        "\n",
        "- The idea behind bagging is combining the results of multiple models (for instance, all decision trees) to get a generalized result. \n",
        "\n",
        "- Bagging technique uses these subsets (bags) to get a fair idea of the distribution (complete set). The size of subsets created for bagging may be less than the original set.\n",
        "\n",
        "- Bagging had each model run independently and then aggregate the outputs at the end without preference to any model.\n",
        "\n",
        "- Bagging decreases variance (overfitting)**\n",
        "\n",
        "- Bagging can be depicted with the following diagram -"
      ],
      "metadata": {
        "id": "89oeyGMoNiB1"
      }
    },
    {
      "cell_type": "markdown",
      "source": [
        "![Bagging](https://qph.fs.quoracdn.net/main-qimg-a5e99250fc4dadd401726a04f4fe2086)"
      ],
      "metadata": {
        "id": "UyvZzdFaNiB2"
      }
    },
    {
      "cell_type": "markdown",
      "source": [
        "## **2.2 Boosting** <a class=\"anchor\" id=\"2.2\"></a>\n",
        "\n",
        "[Table of Contents](#0.1)\n",
        "\n",
        "- Boosting is a sequential process, where each subsequent model attempts to correct the errors of the previous model. The succeeding models are dependent on the previous model.\n",
        "\n",
        "- In this technique, learners are learned sequentially with early learners fitting simple models to the data and then analyzing data for errors. In other words, we fit consecutive trees (random sample) and at every step, the goal is to solve for net error from the prior tree.\n",
        "\n",
        "- When an input is misclassified by a hypothesis, its weight is increased so that next hypothesis is more likely to classify it correctly. By combining the whole set at the end converts weak learners into better performing model.\n",
        "\n",
        "- Boosting is another ensemble technique to create a collection of models. \n",
        "\n",
        "- In this technique, models are learned sequentially with early models fitting simple models to the data and then analyzing the data for errors.\n",
        "\n",
        "- In other words, with boosting, we fit consecutive trees and at every step.\n",
        "\n",
        "- Boosting decreases bias (underfitting)**\n",
        "\n",
        "- Boosting can be depicted with the following diagram -"
      ],
      "metadata": {
        "id": "5T4uV5jnNiB2"
      }
    },
    {
      "cell_type": "markdown",
      "source": [
        "![Boosting](https://qph.fs.quoracdn.net/main-qimg-652eb915c12a1440bb8bb4acd8329ddd)"
      ],
      "metadata": {
        "id": "o7wXME0bNiB2"
      }
    },
    {
      "cell_type": "markdown",
      "source": [
        "# **3. XGBoost algorithm intuition** <a class=\"anchor\" id=\"3\"></a>\n",
        "\n",
        "[Go to Top](#0)\n",
        "\n",
        "\n",
        "- XGBoost is a powerful and lightning fast machine learning library. It’s commonly used to win Kaggle competitions. \n",
        "\n",
        "- It’s an intimidating algorithm, especially because of the number of large parameters that XGBoost provides.\n",
        "\n",
        "- Also, there is some confusion regarding gradient boosting, gradient boosted trees and XGBoost.\n",
        "\n",
        "- So, in this section, we will discuss - **gradient boosting**, **gradient boosted trees** and **XGBoost**. The purpose of this section is to clarify these concepts."
      ],
      "metadata": {
        "id": "T8w7nEMvNiB3"
      }
    },
    {
      "cell_type": "markdown",
      "source": [
        "## **3.1 Gradient Boosting** <a class=\"anchor\" id=\"3.1\"></a>\n",
        "\n",
        "[Table of Contents](#0.1)\n",
        "\n",
        "- Gradient boosting is a machine learning technique for regression and classification problems, which produces a prediction model in the form of an ensemble of weak prediction models, typically decision trees.\n",
        "\n",
        "- It builds the model in a stage-wise fashion like other boosting methods do and it generalizes them by allowing optimization of an arbitrary differentiable loss function.\n",
        "\n",
        "- The objective of any supervised learning algorithm is to define a loss function and minimize it. The same is true for Gradient Boosting algorithm. Here, we have mean squared error (MSE) as loss-function defined as follows -"
      ],
      "metadata": {
        "id": "YuMTUTy5NiB3"
      }
    },
    {
      "cell_type": "markdown",
      "source": [
        "![MSE](https://miro.medium.com/max/1050/1*fHenn7NVqcWvw25D3-zRiQ.png)"
      ],
      "metadata": {
        "id": "KiEEwJE0NiB3"
      }
    },
    {
      "cell_type": "markdown",
      "source": [
        "- We want our predictions, such that our loss function (MSE) is minimum. \n",
        "\n",
        "- By using gradient descent and updating our predictions based on a learning rate, we can find the values where MSE is minimum.\n",
        "\n",
        "- It can be depicted as follows -"
      ],
      "metadata": {
        "id": "9diIklhENiB3"
      }
    },
    {
      "cell_type": "markdown",
      "source": [
        "![MSE minimized](https://miro.medium.com/max/894/1*LLbC4TstqzXQ3hzA8wCmeg.png)"
      ],
      "metadata": {
        "id": "PCQslp0mNiB3"
      }
    },
    {
      "cell_type": "markdown",
      "source": [
        "- So, we are basically updating the predictions such that the sum of our residuals is close to 0 (or minimum) and predicted values are sufficiently close to actual values.\n",
        "\n",
        "- Now, we train our second model on the gradient of the error with respect to the loss predictions of the first model. Thus, we should correct the mistakes of the first model. \n",
        "\n",
        "- This is the core of gradient boosting, and what allows many simple models to compensate for each other’s weaknesses to better fit the data.\n",
        "\n",
        "- Gradient Boosting is an iterative procedure. So, we will repeat the above process over and over again. Each time we fit a new model to the gradient of the error of the updated sum of models.\n",
        "\n",
        "- So, gradient boosting is a method for optimizing the function F, but it doesn’t really care about h (since nothing about the optimization of h is defined). This means that any base model h can be used to construct F."
      ],
      "metadata": {
        "id": "MrF6UgQANiB4"
      }
    },
    {
      "cell_type": "markdown",
      "source": [
        "## **3.2 Gradient Boosted Trees** <a class=\"anchor\" id=\"3.2\"></a>\n",
        "\n",
        "[Table of Contents](#0.1)\n",
        "\n",
        "\n",
        "- Gradient boosted trees consider the special case where the simple model h is a decision tree. \n",
        "\n",
        "- It can be depicted with the following diagram which is taken from XGBoost’s documentation."
      ],
      "metadata": {
        "id": "krHiNV_dNiB4"
      }
    },
    {
      "cell_type": "markdown",
      "source": [
        "![Gradient Boosted Trees from XGBoost Docs](https://miro.medium.com/max/912/1*TebQuJsPc7upto5dvURjSA.png)"
      ],
      "metadata": {
        "id": "57p2q9llNiB4"
      }
    },
    {
      "cell_type": "markdown",
      "source": [
        "- In this case, there are 2 kinds of parameters P - **the weights at each leaf w** and **the number of leaves T in each tree** (so that in the above example, T=3 and w=[2, 0.1, -1]).\n",
        "\n",
        "- When building a decision tree, a challenge is to decide how to split a current leaf. For instance, in the above image, how could we add another layer to the (age > 15) leaf. \n",
        "\n",
        "- A ‘greedy’ way to do this is to consider every possible split on the remaining features (so, gender and occupation), and calculate the new loss for each split. We could then pick the tree which most reduces our loss."
      ],
      "metadata": {
        "id": "4sVvJXRlNiB4"
      }
    },
    {
      "cell_type": "markdown",
      "source": [
        "![New Tree minimizing loss](https://miro.medium.com/max/1456/1*ucyUhM7h_6PHC_8tEdzyXA.png)"
      ],
      "metadata": {
        "id": "CuHGvW6cNiB4"
      }
    },
    {
      "cell_type": "markdown",
      "source": [
        "- In addition to finding the new tree structures, the weights at each node need to be calculated as well, such that the loss is minimized. Since the tree structure is now fixed, this can be done analytically now by setting the loss function = 0.\n",
        "\n",
        "- After derivation, we get the following result."
      ],
      "metadata": {
        "id": "7VoSycfQNiB4"
      }
    },
    {
      "cell_type": "markdown",
      "source": [
        "![wj](https://miro.medium.com/max/424/1*W2EQO65xNDwcM0GAvLicEw@2x.png)"
      ],
      "metadata": {
        "id": "RhDgBD5rNiB5"
      }
    },
    {
      "cell_type": "markdown",
      "source": [
        "- Where I_j is a set containing all the instances ((x, y) datapoints) at a leaf, and w_j is the weight at leaf j. \n",
        "\n",
        "- This looks more intimidating than it is; for some intuition, if we consider loss=MSE=(y,ŷ )^2, then taking the first and second gradients where ŷ =0 yields"
      ],
      "metadata": {
        "id": "HYWnFqP8NiB5"
      }
    },
    {
      "cell_type": "markdown",
      "source": [
        "![Loss MSE after 1st and 2nd gradient](https://miro.medium.com/max/320/1*HirO1ayFfCoPmJKh_ZsygA@2x.png)"
      ],
      "metadata": {
        "id": "qK1u4iLjNiB5"
      }
    },
    {
      "cell_type": "markdown",
      "source": [
        "- Here, the weights effectively become the average of the true labels at each leaf (with some regularization from the λ constant)."
      ],
      "metadata": {
        "id": "oXQ60PpENiB5"
      }
    },
    {
      "cell_type": "markdown",
      "source": [
        "## **3.3 Extreme Gradient Boosting (XGBoost)** <a class=\"anchor\" id=\"3.3\"></a>\n",
        "\n",
        "[Table of Contents](#0.1)\n",
        "\n",
        "- XGBoost is one of the fastest implementations of gradient boosted trees. It does this by tackling one of the major inefficiencies of gradient boosted trees. \n",
        "\n",
        "- Consider the case where there are thousands of features, and therefore thousands of possible splits. Now, if we consider the potential loss for all possible splits to create a new branch we have thousands of potential splits and losses.\n",
        "\n",
        "- XGBoost tackles this inefficiency by looking at the distribution of features across all data points in a leaf and using this information to reduce the search space of possible feature splits.\n",
        "\n",
        "- Although XGBoost implements a few regularization tricks, this speed up is by far the most useful feature of the library, allowing many hyperparameter settings to be investigated quickly. \n",
        "\n",
        "- This is helpful because there are many hyperparameters to tune which are designed to limit overfitting."
      ],
      "metadata": {
        "id": "yPWvAb9aNiB5"
      }
    },
    {
      "cell_type": "markdown",
      "source": [
        "# **4. Implementing XGBoost in Python** <a class=\"anchor\" id=\"4\"></a>\n",
        "\n",
        "[Table of Contents](#0.1)\n",
        "\n"
      ],
      "metadata": {
        "id": "RZ_16pNMNiB5"
      }
    },
    {
      "cell_type": "markdown",
      "source": [
        "## **4.1 Load libraries** <a class=\"anchor\" id=\"4.1\"></a>\n",
        "\n",
        "[Table of Contents](#0.1)"
      ],
      "metadata": {
        "id": "8YiFZXUBNiB5"
      }
    },
    {
      "cell_type": "code",
      "source": [
        "# This Python 3 environment comes with many helpful analytics libraries installed\n",
        "# It is defined by the kaggle/python docker image: https://github.com/kaggle/docker-python\n",
        "# For example, here's several helpful packages to load in \n",
        "\n",
        "import numpy as np # linear algebra\n",
        "import pandas as pd # data processing, CSV file I/O (e.g. pd.read_csv)\n",
        "import matplotlib.pyplot as plt  # for plotting facilities\n",
        "\n",
        "# Input data files are available in the \"../input/\" directory.\n",
        "# For example, running this (by clicking run or pressing Shift+Enter) will list all files under the input directory\n",
        "\n",
        "import os\n",
        "for dirname, _, filenames in os.walk('/kaggle/input'):\n",
        "    for filename in filenames:\n",
        "        print(os.path.join(dirname, filename))\n",
        "\n",
        "# Any results you write to the current directory are saved as output."
      ],
      "metadata": {
        "_uuid": "8f2839f25d086af736a60e9eeb907d3b93b6e0e5",
        "_cell_guid": "b1076dfc-b9ad-4769-8c92-a6c4dae69d19",
        "trusted": true,
        "id": "siqPKR_sNiB6"
      },
      "execution_count": null,
      "outputs": []
    },
    {
      "cell_type": "markdown",
      "source": [
        "## **4.2 Read dataset** <a class=\"anchor\" id=\"4.2\"></a>\n",
        "\n",
        "[Table of Contents](#0.1)"
      ],
      "metadata": {
        "id": "kapsWR38NiB6"
      }
    },
    {
      "cell_type": "code",
      "source": [
        "# mounting the drive for reading the csv file \n",
        "from google.colab import drive\n",
        "drive.mount('/content/drive')"
      ],
      "metadata": {
        "colab": {
          "base_uri": "https://localhost:8080/"
        },
        "id": "phSq5ftqTNha",
        "outputId": "8f0545f8-b6cb-4933-cdf7-0fb08ccc8ed8"
      },
      "execution_count": null,
      "outputs": [
        {
          "output_type": "stream",
          "name": "stdout",
          "text": [
            "Drive already mounted at /content/drive; to attempt to forcibly remount, call drive.mount(\"/content/drive\", force_remount=True).\n"
          ]
        }
      ]
    },
    {
      "cell_type": "code",
      "source": [
        "# figuring out the path\n",
        "#ls  drive/MyDrive/Colab_Notebooks/Ai_algo\n"
      ],
      "metadata": {
        "id": "spoOekSITcz6"
      },
      "execution_count": null,
      "outputs": []
    },
    {
      "cell_type": "code",
      "source": [
        "data = 'drive/MyDrive/Colab_Notebooks/Ai_algo/Wholesale customers data.csv'\n",
        "\n",
        "df = pd.read_csv(data)"
      ],
      "metadata": {
        "_cell_guid": "",
        "_uuid": "",
        "trusted": true,
        "id": "F8aXuyhPNiB6"
      },
      "execution_count": null,
      "outputs": []
    },
    {
      "cell_type": "markdown",
      "source": [
        "## **4.3 EDA** <a class=\"anchor\" id=\"4.3\"></a>\n",
        "\n",
        "[Table of Contents](#0.1)"
      ],
      "metadata": {
        "id": "UTbTSvjjNiB7"
      }
    },
    {
      "cell_type": "markdown",
      "source": [
        "### **4.3.1 Shape of dataset** <a class=\"anchor\" id=\"4.3.1\"></a>\n",
        "\n",
        "- I will start off by checking the shape of the dataset."
      ],
      "metadata": {
        "id": "ZH-s_LVINiB7"
      }
    },
    {
      "cell_type": "code",
      "source": [
        "df.shape"
      ],
      "metadata": {
        "trusted": true,
        "id": "WKzI-wB2NiB7",
        "colab": {
          "base_uri": "https://localhost:8080/"
        },
        "outputId": "3dc95297-afc1-4e7a-f51b-ca645c48f8a5"
      },
      "execution_count": null,
      "outputs": [
        {
          "output_type": "execute_result",
          "data": {
            "text/plain": [
              "(440, 8)"
            ]
          },
          "metadata": {},
          "execution_count": 59
        }
      ]
    },
    {
      "cell_type": "markdown",
      "source": [
        "We can see that there are 440 instances and 8 attributes in the dataset."
      ],
      "metadata": {
        "id": "NQVTGw0SNiB7"
      }
    },
    {
      "cell_type": "markdown",
      "source": [
        "### **4.3.2 Preview dataset** <a class=\"anchor\" id=\"4.3.2\"></a> "
      ],
      "metadata": {
        "id": "mFRj9riZNiB7"
      }
    },
    {
      "cell_type": "code",
      "source": [
        "df.head()"
      ],
      "metadata": {
        "trusted": true,
        "id": "zcoIrJ4BNiB7",
        "colab": {
          "base_uri": "https://localhost:8080/",
          "height": 206
        },
        "outputId": "40e981f4-5c6c-45b8-fcd5-40ffdc99cba8"
      },
      "execution_count": null,
      "outputs": [
        {
          "output_type": "execute_result",
          "data": {
            "text/plain": [
              "   Channel  Region  Fresh  Milk  Grocery  Frozen  Detergents_Paper  Delicassen\n",
              "0        2       3  12669  9656     7561     214              2674        1338\n",
              "1        2       3   7057  9810     9568    1762              3293        1776\n",
              "2        2       3   6353  8808     7684    2405              3516        7844\n",
              "3        1       3  13265  1196     4221    6404               507        1788\n",
              "4        2       3  22615  5410     7198    3915              1777        5185"
            ],
            "text/html": [
              "\n",
              "  <div id=\"df-73ed538d-931c-4cf2-b43d-f234bb3f6dcd\">\n",
              "    <div class=\"colab-df-container\">\n",
              "      <div>\n",
              "<style scoped>\n",
              "    .dataframe tbody tr th:only-of-type {\n",
              "        vertical-align: middle;\n",
              "    }\n",
              "\n",
              "    .dataframe tbody tr th {\n",
              "        vertical-align: top;\n",
              "    }\n",
              "\n",
              "    .dataframe thead th {\n",
              "        text-align: right;\n",
              "    }\n",
              "</style>\n",
              "<table border=\"1\" class=\"dataframe\">\n",
              "  <thead>\n",
              "    <tr style=\"text-align: right;\">\n",
              "      <th></th>\n",
              "      <th>Channel</th>\n",
              "      <th>Region</th>\n",
              "      <th>Fresh</th>\n",
              "      <th>Milk</th>\n",
              "      <th>Grocery</th>\n",
              "      <th>Frozen</th>\n",
              "      <th>Detergents_Paper</th>\n",
              "      <th>Delicassen</th>\n",
              "    </tr>\n",
              "  </thead>\n",
              "  <tbody>\n",
              "    <tr>\n",
              "      <th>0</th>\n",
              "      <td>2</td>\n",
              "      <td>3</td>\n",
              "      <td>12669</td>\n",
              "      <td>9656</td>\n",
              "      <td>7561</td>\n",
              "      <td>214</td>\n",
              "      <td>2674</td>\n",
              "      <td>1338</td>\n",
              "    </tr>\n",
              "    <tr>\n",
              "      <th>1</th>\n",
              "      <td>2</td>\n",
              "      <td>3</td>\n",
              "      <td>7057</td>\n",
              "      <td>9810</td>\n",
              "      <td>9568</td>\n",
              "      <td>1762</td>\n",
              "      <td>3293</td>\n",
              "      <td>1776</td>\n",
              "    </tr>\n",
              "    <tr>\n",
              "      <th>2</th>\n",
              "      <td>2</td>\n",
              "      <td>3</td>\n",
              "      <td>6353</td>\n",
              "      <td>8808</td>\n",
              "      <td>7684</td>\n",
              "      <td>2405</td>\n",
              "      <td>3516</td>\n",
              "      <td>7844</td>\n",
              "    </tr>\n",
              "    <tr>\n",
              "      <th>3</th>\n",
              "      <td>1</td>\n",
              "      <td>3</td>\n",
              "      <td>13265</td>\n",
              "      <td>1196</td>\n",
              "      <td>4221</td>\n",
              "      <td>6404</td>\n",
              "      <td>507</td>\n",
              "      <td>1788</td>\n",
              "    </tr>\n",
              "    <tr>\n",
              "      <th>4</th>\n",
              "      <td>2</td>\n",
              "      <td>3</td>\n",
              "      <td>22615</td>\n",
              "      <td>5410</td>\n",
              "      <td>7198</td>\n",
              "      <td>3915</td>\n",
              "      <td>1777</td>\n",
              "      <td>5185</td>\n",
              "    </tr>\n",
              "  </tbody>\n",
              "</table>\n",
              "</div>\n",
              "      <button class=\"colab-df-convert\" onclick=\"convertToInteractive('df-73ed538d-931c-4cf2-b43d-f234bb3f6dcd')\"\n",
              "              title=\"Convert this dataframe to an interactive table.\"\n",
              "              style=\"display:none;\">\n",
              "        \n",
              "  <svg xmlns=\"http://www.w3.org/2000/svg\" height=\"24px\"viewBox=\"0 0 24 24\"\n",
              "       width=\"24px\">\n",
              "    <path d=\"M0 0h24v24H0V0z\" fill=\"none\"/>\n",
              "    <path d=\"M18.56 5.44l.94 2.06.94-2.06 2.06-.94-2.06-.94-.94-2.06-.94 2.06-2.06.94zm-11 1L8.5 8.5l.94-2.06 2.06-.94-2.06-.94L8.5 2.5l-.94 2.06-2.06.94zm10 10l.94 2.06.94-2.06 2.06-.94-2.06-.94-.94-2.06-.94 2.06-2.06.94z\"/><path d=\"M17.41 7.96l-1.37-1.37c-.4-.4-.92-.59-1.43-.59-.52 0-1.04.2-1.43.59L10.3 9.45l-7.72 7.72c-.78.78-.78 2.05 0 2.83L4 21.41c.39.39.9.59 1.41.59.51 0 1.02-.2 1.41-.59l7.78-7.78 2.81-2.81c.8-.78.8-2.07 0-2.86zM5.41 20L4 18.59l7.72-7.72 1.47 1.35L5.41 20z\"/>\n",
              "  </svg>\n",
              "      </button>\n",
              "      \n",
              "  <style>\n",
              "    .colab-df-container {\n",
              "      display:flex;\n",
              "      flex-wrap:wrap;\n",
              "      gap: 12px;\n",
              "    }\n",
              "\n",
              "    .colab-df-convert {\n",
              "      background-color: #E8F0FE;\n",
              "      border: none;\n",
              "      border-radius: 50%;\n",
              "      cursor: pointer;\n",
              "      display: none;\n",
              "      fill: #1967D2;\n",
              "      height: 32px;\n",
              "      padding: 0 0 0 0;\n",
              "      width: 32px;\n",
              "    }\n",
              "\n",
              "    .colab-df-convert:hover {\n",
              "      background-color: #E2EBFA;\n",
              "      box-shadow: 0px 1px 2px rgba(60, 64, 67, 0.3), 0px 1px 3px 1px rgba(60, 64, 67, 0.15);\n",
              "      fill: #174EA6;\n",
              "    }\n",
              "\n",
              "    [theme=dark] .colab-df-convert {\n",
              "      background-color: #3B4455;\n",
              "      fill: #D2E3FC;\n",
              "    }\n",
              "\n",
              "    [theme=dark] .colab-df-convert:hover {\n",
              "      background-color: #434B5C;\n",
              "      box-shadow: 0px 1px 3px 1px rgba(0, 0, 0, 0.15);\n",
              "      filter: drop-shadow(0px 1px 2px rgba(0, 0, 0, 0.3));\n",
              "      fill: #FFFFFF;\n",
              "    }\n",
              "  </style>\n",
              "\n",
              "      <script>\n",
              "        const buttonEl =\n",
              "          document.querySelector('#df-73ed538d-931c-4cf2-b43d-f234bb3f6dcd button.colab-df-convert');\n",
              "        buttonEl.style.display =\n",
              "          google.colab.kernel.accessAllowed ? 'block' : 'none';\n",
              "\n",
              "        async function convertToInteractive(key) {\n",
              "          const element = document.querySelector('#df-73ed538d-931c-4cf2-b43d-f234bb3f6dcd');\n",
              "          const dataTable =\n",
              "            await google.colab.kernel.invokeFunction('convertToInteractive',\n",
              "                                                     [key], {});\n",
              "          if (!dataTable) return;\n",
              "\n",
              "          const docLinkHtml = 'Like what you see? Visit the ' +\n",
              "            '<a target=\"_blank\" href=https://colab.research.google.com/notebooks/data_table.ipynb>data table notebook</a>'\n",
              "            + ' to learn more about interactive tables.';\n",
              "          element.innerHTML = '';\n",
              "          dataTable['output_type'] = 'display_data';\n",
              "          await google.colab.output.renderOutput(dataTable, element);\n",
              "          const docLink = document.createElement('div');\n",
              "          docLink.innerHTML = docLinkHtml;\n",
              "          element.appendChild(docLink);\n",
              "        }\n",
              "      </script>\n",
              "    </div>\n",
              "  </div>\n",
              "  "
            ]
          },
          "metadata": {},
          "execution_count": 60
        }
      ]
    },
    {
      "cell_type": "markdown",
      "source": [
        "- We can see that `Channel` variable contains values as 1 and 2. \n",
        "\n",
        "- These two values classify the customers from two different channels as\n",
        "     - 1 for Horeca (Hotel/Retail/Café) customers and \n",
        "     - 2 for Retail channel (nominal) customers."
      ],
      "metadata": {
        "id": "jSRhABnONiB7"
      }
    },
    {
      "cell_type": "markdown",
      "source": [
        "### **4.3.3 Summary of dataset** <a class=\"anchor\" id=\"4.3.3\"></a> "
      ],
      "metadata": {
        "id": "7zCM28uONiB8"
      }
    },
    {
      "cell_type": "code",
      "source": [
        "df.info()"
      ],
      "metadata": {
        "trusted": true,
        "id": "bhgUfA7iNiB8",
        "colab": {
          "base_uri": "https://localhost:8080/"
        },
        "outputId": "c0e369a3-da24-4a77-89c0-d787b19239da"
      },
      "execution_count": null,
      "outputs": [
        {
          "output_type": "stream",
          "name": "stdout",
          "text": [
            "<class 'pandas.core.frame.DataFrame'>\n",
            "RangeIndex: 440 entries, 0 to 439\n",
            "Data columns (total 8 columns):\n",
            " #   Column            Non-Null Count  Dtype\n",
            "---  ------            --------------  -----\n",
            " 0   Channel           440 non-null    int64\n",
            " 1   Region            440 non-null    int64\n",
            " 2   Fresh             440 non-null    int64\n",
            " 3   Milk              440 non-null    int64\n",
            " 4   Grocery           440 non-null    int64\n",
            " 5   Frozen            440 non-null    int64\n",
            " 6   Detergents_Paper  440 non-null    int64\n",
            " 7   Delicassen        440 non-null    int64\n",
            "dtypes: int64(8)\n",
            "memory usage: 27.6 KB\n"
          ]
        }
      ]
    },
    {
      "cell_type": "markdown",
      "source": [
        "We can see that there are only numerical variables in the dataset."
      ],
      "metadata": {
        "id": "T3GjdTo5NiB8"
      }
    },
    {
      "cell_type": "markdown",
      "source": [
        "### **4.3.4 Summary statistics of dataset** <a class=\"anchor\" id=\"4.3.4\"></a> "
      ],
      "metadata": {
        "id": "8WN1lwhFNiB8"
      }
    },
    {
      "cell_type": "code",
      "source": [
        "df.describe()"
      ],
      "metadata": {
        "trusted": true,
        "id": "ZfRGpsFxNiB8",
        "colab": {
          "base_uri": "https://localhost:8080/",
          "height": 300
        },
        "outputId": "4f2f71f6-0116-4a31-ae10-83ef0bc513c0"
      },
      "execution_count": null,
      "outputs": [
        {
          "output_type": "execute_result",
          "data": {
            "text/plain": [
              "          Channel      Region          Fresh          Milk       Grocery  \\\n",
              "count  440.000000  440.000000     440.000000    440.000000    440.000000   \n",
              "mean     1.322727    2.543182   12000.297727   5796.265909   7951.277273   \n",
              "std      0.468052    0.774272   12647.328865   7380.377175   9503.162829   \n",
              "min      1.000000    1.000000       3.000000     55.000000      3.000000   \n",
              "25%      1.000000    2.000000    3127.750000   1533.000000   2153.000000   \n",
              "50%      1.000000    3.000000    8504.000000   3627.000000   4755.500000   \n",
              "75%      2.000000    3.000000   16933.750000   7190.250000  10655.750000   \n",
              "max      2.000000    3.000000  112151.000000  73498.000000  92780.000000   \n",
              "\n",
              "             Frozen  Detergents_Paper    Delicassen  \n",
              "count    440.000000        440.000000    440.000000  \n",
              "mean    3071.931818       2881.493182   1524.870455  \n",
              "std     4854.673333       4767.854448   2820.105937  \n",
              "min       25.000000          3.000000      3.000000  \n",
              "25%      742.250000        256.750000    408.250000  \n",
              "50%     1526.000000        816.500000    965.500000  \n",
              "75%     3554.250000       3922.000000   1820.250000  \n",
              "max    60869.000000      40827.000000  47943.000000  "
            ],
            "text/html": [
              "\n",
              "  <div id=\"df-616bb6ae-18cd-45ee-9b7b-b15d9409e535\">\n",
              "    <div class=\"colab-df-container\">\n",
              "      <div>\n",
              "<style scoped>\n",
              "    .dataframe tbody tr th:only-of-type {\n",
              "        vertical-align: middle;\n",
              "    }\n",
              "\n",
              "    .dataframe tbody tr th {\n",
              "        vertical-align: top;\n",
              "    }\n",
              "\n",
              "    .dataframe thead th {\n",
              "        text-align: right;\n",
              "    }\n",
              "</style>\n",
              "<table border=\"1\" class=\"dataframe\">\n",
              "  <thead>\n",
              "    <tr style=\"text-align: right;\">\n",
              "      <th></th>\n",
              "      <th>Channel</th>\n",
              "      <th>Region</th>\n",
              "      <th>Fresh</th>\n",
              "      <th>Milk</th>\n",
              "      <th>Grocery</th>\n",
              "      <th>Frozen</th>\n",
              "      <th>Detergents_Paper</th>\n",
              "      <th>Delicassen</th>\n",
              "    </tr>\n",
              "  </thead>\n",
              "  <tbody>\n",
              "    <tr>\n",
              "      <th>count</th>\n",
              "      <td>440.000000</td>\n",
              "      <td>440.000000</td>\n",
              "      <td>440.000000</td>\n",
              "      <td>440.000000</td>\n",
              "      <td>440.000000</td>\n",
              "      <td>440.000000</td>\n",
              "      <td>440.000000</td>\n",
              "      <td>440.000000</td>\n",
              "    </tr>\n",
              "    <tr>\n",
              "      <th>mean</th>\n",
              "      <td>1.322727</td>\n",
              "      <td>2.543182</td>\n",
              "      <td>12000.297727</td>\n",
              "      <td>5796.265909</td>\n",
              "      <td>7951.277273</td>\n",
              "      <td>3071.931818</td>\n",
              "      <td>2881.493182</td>\n",
              "      <td>1524.870455</td>\n",
              "    </tr>\n",
              "    <tr>\n",
              "      <th>std</th>\n",
              "      <td>0.468052</td>\n",
              "      <td>0.774272</td>\n",
              "      <td>12647.328865</td>\n",
              "      <td>7380.377175</td>\n",
              "      <td>9503.162829</td>\n",
              "      <td>4854.673333</td>\n",
              "      <td>4767.854448</td>\n",
              "      <td>2820.105937</td>\n",
              "    </tr>\n",
              "    <tr>\n",
              "      <th>min</th>\n",
              "      <td>1.000000</td>\n",
              "      <td>1.000000</td>\n",
              "      <td>3.000000</td>\n",
              "      <td>55.000000</td>\n",
              "      <td>3.000000</td>\n",
              "      <td>25.000000</td>\n",
              "      <td>3.000000</td>\n",
              "      <td>3.000000</td>\n",
              "    </tr>\n",
              "    <tr>\n",
              "      <th>25%</th>\n",
              "      <td>1.000000</td>\n",
              "      <td>2.000000</td>\n",
              "      <td>3127.750000</td>\n",
              "      <td>1533.000000</td>\n",
              "      <td>2153.000000</td>\n",
              "      <td>742.250000</td>\n",
              "      <td>256.750000</td>\n",
              "      <td>408.250000</td>\n",
              "    </tr>\n",
              "    <tr>\n",
              "      <th>50%</th>\n",
              "      <td>1.000000</td>\n",
              "      <td>3.000000</td>\n",
              "      <td>8504.000000</td>\n",
              "      <td>3627.000000</td>\n",
              "      <td>4755.500000</td>\n",
              "      <td>1526.000000</td>\n",
              "      <td>816.500000</td>\n",
              "      <td>965.500000</td>\n",
              "    </tr>\n",
              "    <tr>\n",
              "      <th>75%</th>\n",
              "      <td>2.000000</td>\n",
              "      <td>3.000000</td>\n",
              "      <td>16933.750000</td>\n",
              "      <td>7190.250000</td>\n",
              "      <td>10655.750000</td>\n",
              "      <td>3554.250000</td>\n",
              "      <td>3922.000000</td>\n",
              "      <td>1820.250000</td>\n",
              "    </tr>\n",
              "    <tr>\n",
              "      <th>max</th>\n",
              "      <td>2.000000</td>\n",
              "      <td>3.000000</td>\n",
              "      <td>112151.000000</td>\n",
              "      <td>73498.000000</td>\n",
              "      <td>92780.000000</td>\n",
              "      <td>60869.000000</td>\n",
              "      <td>40827.000000</td>\n",
              "      <td>47943.000000</td>\n",
              "    </tr>\n",
              "  </tbody>\n",
              "</table>\n",
              "</div>\n",
              "      <button class=\"colab-df-convert\" onclick=\"convertToInteractive('df-616bb6ae-18cd-45ee-9b7b-b15d9409e535')\"\n",
              "              title=\"Convert this dataframe to an interactive table.\"\n",
              "              style=\"display:none;\">\n",
              "        \n",
              "  <svg xmlns=\"http://www.w3.org/2000/svg\" height=\"24px\"viewBox=\"0 0 24 24\"\n",
              "       width=\"24px\">\n",
              "    <path d=\"M0 0h24v24H0V0z\" fill=\"none\"/>\n",
              "    <path d=\"M18.56 5.44l.94 2.06.94-2.06 2.06-.94-2.06-.94-.94-2.06-.94 2.06-2.06.94zm-11 1L8.5 8.5l.94-2.06 2.06-.94-2.06-.94L8.5 2.5l-.94 2.06-2.06.94zm10 10l.94 2.06.94-2.06 2.06-.94-2.06-.94-.94-2.06-.94 2.06-2.06.94z\"/><path d=\"M17.41 7.96l-1.37-1.37c-.4-.4-.92-.59-1.43-.59-.52 0-1.04.2-1.43.59L10.3 9.45l-7.72 7.72c-.78.78-.78 2.05 0 2.83L4 21.41c.39.39.9.59 1.41.59.51 0 1.02-.2 1.41-.59l7.78-7.78 2.81-2.81c.8-.78.8-2.07 0-2.86zM5.41 20L4 18.59l7.72-7.72 1.47 1.35L5.41 20z\"/>\n",
              "  </svg>\n",
              "      </button>\n",
              "      \n",
              "  <style>\n",
              "    .colab-df-container {\n",
              "      display:flex;\n",
              "      flex-wrap:wrap;\n",
              "      gap: 12px;\n",
              "    }\n",
              "\n",
              "    .colab-df-convert {\n",
              "      background-color: #E8F0FE;\n",
              "      border: none;\n",
              "      border-radius: 50%;\n",
              "      cursor: pointer;\n",
              "      display: none;\n",
              "      fill: #1967D2;\n",
              "      height: 32px;\n",
              "      padding: 0 0 0 0;\n",
              "      width: 32px;\n",
              "    }\n",
              "\n",
              "    .colab-df-convert:hover {\n",
              "      background-color: #E2EBFA;\n",
              "      box-shadow: 0px 1px 2px rgba(60, 64, 67, 0.3), 0px 1px 3px 1px rgba(60, 64, 67, 0.15);\n",
              "      fill: #174EA6;\n",
              "    }\n",
              "\n",
              "    [theme=dark] .colab-df-convert {\n",
              "      background-color: #3B4455;\n",
              "      fill: #D2E3FC;\n",
              "    }\n",
              "\n",
              "    [theme=dark] .colab-df-convert:hover {\n",
              "      background-color: #434B5C;\n",
              "      box-shadow: 0px 1px 3px 1px rgba(0, 0, 0, 0.15);\n",
              "      filter: drop-shadow(0px 1px 2px rgba(0, 0, 0, 0.3));\n",
              "      fill: #FFFFFF;\n",
              "    }\n",
              "  </style>\n",
              "\n",
              "      <script>\n",
              "        const buttonEl =\n",
              "          document.querySelector('#df-616bb6ae-18cd-45ee-9b7b-b15d9409e535 button.colab-df-convert');\n",
              "        buttonEl.style.display =\n",
              "          google.colab.kernel.accessAllowed ? 'block' : 'none';\n",
              "\n",
              "        async function convertToInteractive(key) {\n",
              "          const element = document.querySelector('#df-616bb6ae-18cd-45ee-9b7b-b15d9409e535');\n",
              "          const dataTable =\n",
              "            await google.colab.kernel.invokeFunction('convertToInteractive',\n",
              "                                                     [key], {});\n",
              "          if (!dataTable) return;\n",
              "\n",
              "          const docLinkHtml = 'Like what you see? Visit the ' +\n",
              "            '<a target=\"_blank\" href=https://colab.research.google.com/notebooks/data_table.ipynb>data table notebook</a>'\n",
              "            + ' to learn more about interactive tables.';\n",
              "          element.innerHTML = '';\n",
              "          dataTable['output_type'] = 'display_data';\n",
              "          await google.colab.output.renderOutput(dataTable, element);\n",
              "          const docLink = document.createElement('div');\n",
              "          docLink.innerHTML = docLinkHtml;\n",
              "          element.appendChild(docLink);\n",
              "        }\n",
              "      </script>\n",
              "    </div>\n",
              "  </div>\n",
              "  "
            ]
          },
          "metadata": {},
          "execution_count": 62
        }
      ]
    },
    {
      "cell_type": "markdown",
      "source": [
        "###  **4.3.5 Check for missing values** <a class=\"anchor\" id=\"4.3.5\"></a>"
      ],
      "metadata": {
        "id": "ibka5WhYNiB8"
      }
    },
    {
      "cell_type": "code",
      "source": [
        "df.isnull().sum()"
      ],
      "metadata": {
        "trusted": true,
        "id": "LidOOl0_NiB8",
        "colab": {
          "base_uri": "https://localhost:8080/"
        },
        "outputId": "7f8ea5a2-8a75-407d-eb82-f4795c2bfc31"
      },
      "execution_count": null,
      "outputs": [
        {
          "output_type": "execute_result",
          "data": {
            "text/plain": [
              "Channel             0\n",
              "Region              0\n",
              "Fresh               0\n",
              "Milk                0\n",
              "Grocery             0\n",
              "Frozen              0\n",
              "Detergents_Paper    0\n",
              "Delicassen          0\n",
              "dtype: int64"
            ]
          },
          "metadata": {},
          "execution_count": 63
        }
      ]
    },
    {
      "cell_type": "markdown",
      "source": [
        "We can see that there are no missing values in the dataset."
      ],
      "metadata": {
        "id": "_LpJHa9UNiB8"
      }
    },
    {
      "cell_type": "markdown",
      "source": [
        "## **4.4 Declare feature vector and target variable** <a class=\"anchor\" id=\"4.4\"></a>\n",
        "\n",
        "\n",
        "[Table of Contents](#0.1)"
      ],
      "metadata": {
        "id": "R1RiGXVSNiB8"
      }
    },
    {
      "cell_type": "code",
      "source": [
        "X = df.drop('Channel', axis=1)\n",
        "\n",
        "y = df['Channel']"
      ],
      "metadata": {
        "trusted": true,
        "id": "-CuRjhLJNiB9"
      },
      "execution_count": null,
      "outputs": []
    },
    {
      "cell_type": "markdown",
      "source": [
        "- Now, let's take a look at feature vector(X) and target variable(y)."
      ],
      "metadata": {
        "id": "gbf32LFVNiB9"
      }
    },
    {
      "cell_type": "code",
      "source": [
        "X.head()"
      ],
      "metadata": {
        "trusted": true,
        "id": "2EumdN66NiB9",
        "colab": {
          "base_uri": "https://localhost:8080/",
          "height": 206
        },
        "outputId": "067cd3c0-4660-4ccb-d863-c77d3888f923"
      },
      "execution_count": null,
      "outputs": [
        {
          "output_type": "execute_result",
          "data": {
            "text/plain": [
              "   Region  Fresh  Milk  Grocery  Frozen  Detergents_Paper  Delicassen\n",
              "0       3  12669  9656     7561     214              2674        1338\n",
              "1       3   7057  9810     9568    1762              3293        1776\n",
              "2       3   6353  8808     7684    2405              3516        7844\n",
              "3       3  13265  1196     4221    6404               507        1788\n",
              "4       3  22615  5410     7198    3915              1777        5185"
            ],
            "text/html": [
              "\n",
              "  <div id=\"df-a5516c7e-2ff1-43e2-8400-046c9080bd8d\">\n",
              "    <div class=\"colab-df-container\">\n",
              "      <div>\n",
              "<style scoped>\n",
              "    .dataframe tbody tr th:only-of-type {\n",
              "        vertical-align: middle;\n",
              "    }\n",
              "\n",
              "    .dataframe tbody tr th {\n",
              "        vertical-align: top;\n",
              "    }\n",
              "\n",
              "    .dataframe thead th {\n",
              "        text-align: right;\n",
              "    }\n",
              "</style>\n",
              "<table border=\"1\" class=\"dataframe\">\n",
              "  <thead>\n",
              "    <tr style=\"text-align: right;\">\n",
              "      <th></th>\n",
              "      <th>Region</th>\n",
              "      <th>Fresh</th>\n",
              "      <th>Milk</th>\n",
              "      <th>Grocery</th>\n",
              "      <th>Frozen</th>\n",
              "      <th>Detergents_Paper</th>\n",
              "      <th>Delicassen</th>\n",
              "    </tr>\n",
              "  </thead>\n",
              "  <tbody>\n",
              "    <tr>\n",
              "      <th>0</th>\n",
              "      <td>3</td>\n",
              "      <td>12669</td>\n",
              "      <td>9656</td>\n",
              "      <td>7561</td>\n",
              "      <td>214</td>\n",
              "      <td>2674</td>\n",
              "      <td>1338</td>\n",
              "    </tr>\n",
              "    <tr>\n",
              "      <th>1</th>\n",
              "      <td>3</td>\n",
              "      <td>7057</td>\n",
              "      <td>9810</td>\n",
              "      <td>9568</td>\n",
              "      <td>1762</td>\n",
              "      <td>3293</td>\n",
              "      <td>1776</td>\n",
              "    </tr>\n",
              "    <tr>\n",
              "      <th>2</th>\n",
              "      <td>3</td>\n",
              "      <td>6353</td>\n",
              "      <td>8808</td>\n",
              "      <td>7684</td>\n",
              "      <td>2405</td>\n",
              "      <td>3516</td>\n",
              "      <td>7844</td>\n",
              "    </tr>\n",
              "    <tr>\n",
              "      <th>3</th>\n",
              "      <td>3</td>\n",
              "      <td>13265</td>\n",
              "      <td>1196</td>\n",
              "      <td>4221</td>\n",
              "      <td>6404</td>\n",
              "      <td>507</td>\n",
              "      <td>1788</td>\n",
              "    </tr>\n",
              "    <tr>\n",
              "      <th>4</th>\n",
              "      <td>3</td>\n",
              "      <td>22615</td>\n",
              "      <td>5410</td>\n",
              "      <td>7198</td>\n",
              "      <td>3915</td>\n",
              "      <td>1777</td>\n",
              "      <td>5185</td>\n",
              "    </tr>\n",
              "  </tbody>\n",
              "</table>\n",
              "</div>\n",
              "      <button class=\"colab-df-convert\" onclick=\"convertToInteractive('df-a5516c7e-2ff1-43e2-8400-046c9080bd8d')\"\n",
              "              title=\"Convert this dataframe to an interactive table.\"\n",
              "              style=\"display:none;\">\n",
              "        \n",
              "  <svg xmlns=\"http://www.w3.org/2000/svg\" height=\"24px\"viewBox=\"0 0 24 24\"\n",
              "       width=\"24px\">\n",
              "    <path d=\"M0 0h24v24H0V0z\" fill=\"none\"/>\n",
              "    <path d=\"M18.56 5.44l.94 2.06.94-2.06 2.06-.94-2.06-.94-.94-2.06-.94 2.06-2.06.94zm-11 1L8.5 8.5l.94-2.06 2.06-.94-2.06-.94L8.5 2.5l-.94 2.06-2.06.94zm10 10l.94 2.06.94-2.06 2.06-.94-2.06-.94-.94-2.06-.94 2.06-2.06.94z\"/><path d=\"M17.41 7.96l-1.37-1.37c-.4-.4-.92-.59-1.43-.59-.52 0-1.04.2-1.43.59L10.3 9.45l-7.72 7.72c-.78.78-.78 2.05 0 2.83L4 21.41c.39.39.9.59 1.41.59.51 0 1.02-.2 1.41-.59l7.78-7.78 2.81-2.81c.8-.78.8-2.07 0-2.86zM5.41 20L4 18.59l7.72-7.72 1.47 1.35L5.41 20z\"/>\n",
              "  </svg>\n",
              "      </button>\n",
              "      \n",
              "  <style>\n",
              "    .colab-df-container {\n",
              "      display:flex;\n",
              "      flex-wrap:wrap;\n",
              "      gap: 12px;\n",
              "    }\n",
              "\n",
              "    .colab-df-convert {\n",
              "      background-color: #E8F0FE;\n",
              "      border: none;\n",
              "      border-radius: 50%;\n",
              "      cursor: pointer;\n",
              "      display: none;\n",
              "      fill: #1967D2;\n",
              "      height: 32px;\n",
              "      padding: 0 0 0 0;\n",
              "      width: 32px;\n",
              "    }\n",
              "\n",
              "    .colab-df-convert:hover {\n",
              "      background-color: #E2EBFA;\n",
              "      box-shadow: 0px 1px 2px rgba(60, 64, 67, 0.3), 0px 1px 3px 1px rgba(60, 64, 67, 0.15);\n",
              "      fill: #174EA6;\n",
              "    }\n",
              "\n",
              "    [theme=dark] .colab-df-convert {\n",
              "      background-color: #3B4455;\n",
              "      fill: #D2E3FC;\n",
              "    }\n",
              "\n",
              "    [theme=dark] .colab-df-convert:hover {\n",
              "      background-color: #434B5C;\n",
              "      box-shadow: 0px 1px 3px 1px rgba(0, 0, 0, 0.15);\n",
              "      filter: drop-shadow(0px 1px 2px rgba(0, 0, 0, 0.3));\n",
              "      fill: #FFFFFF;\n",
              "    }\n",
              "  </style>\n",
              "\n",
              "      <script>\n",
              "        const buttonEl =\n",
              "          document.querySelector('#df-a5516c7e-2ff1-43e2-8400-046c9080bd8d button.colab-df-convert');\n",
              "        buttonEl.style.display =\n",
              "          google.colab.kernel.accessAllowed ? 'block' : 'none';\n",
              "\n",
              "        async function convertToInteractive(key) {\n",
              "          const element = document.querySelector('#df-a5516c7e-2ff1-43e2-8400-046c9080bd8d');\n",
              "          const dataTable =\n",
              "            await google.colab.kernel.invokeFunction('convertToInteractive',\n",
              "                                                     [key], {});\n",
              "          if (!dataTable) return;\n",
              "\n",
              "          const docLinkHtml = 'Like what you see? Visit the ' +\n",
              "            '<a target=\"_blank\" href=https://colab.research.google.com/notebooks/data_table.ipynb>data table notebook</a>'\n",
              "            + ' to learn more about interactive tables.';\n",
              "          element.innerHTML = '';\n",
              "          dataTable['output_type'] = 'display_data';\n",
              "          await google.colab.output.renderOutput(dataTable, element);\n",
              "          const docLink = document.createElement('div');\n",
              "          docLink.innerHTML = docLinkHtml;\n",
              "          element.appendChild(docLink);\n",
              "        }\n",
              "      </script>\n",
              "    </div>\n",
              "  </div>\n",
              "  "
            ]
          },
          "metadata": {},
          "execution_count": 65
        }
      ]
    },
    {
      "cell_type": "code",
      "source": [
        "y.head()"
      ],
      "metadata": {
        "trusted": true,
        "id": "m82ps176NiB9",
        "colab": {
          "base_uri": "https://localhost:8080/"
        },
        "outputId": "a51f987f-bd09-400c-9dac-6283975a3ab8"
      },
      "execution_count": null,
      "outputs": [
        {
          "output_type": "execute_result",
          "data": {
            "text/plain": [
              "0    2\n",
              "1    2\n",
              "2    2\n",
              "3    1\n",
              "4    2\n",
              "Name: Channel, dtype: int64"
            ]
          },
          "metadata": {},
          "execution_count": 66
        }
      ]
    },
    {
      "cell_type": "markdown",
      "source": [
        "- We can see that the y label contain values as 1 and 2. \n",
        "\n",
        "- We will need to convert it into 0 and 1 for further analysis. \n",
        "\n",
        "- We will do it as follows -"
      ],
      "metadata": {
        "id": "5FLLj46cNiB9"
      }
    },
    {
      "cell_type": "code",
      "source": [
        "# convert labels into binary values\n",
        "\n",
        "y[y == 2] = 0\n",
        "\n",
        "y[y == 1] = 1"
      ],
      "metadata": {
        "trusted": true,
        "id": "3I-ajTe7NiB9"
      },
      "execution_count": null,
      "outputs": []
    },
    {
      "cell_type": "code",
      "source": [
        "# again preview the y label\n",
        "\n",
        "y.head()"
      ],
      "metadata": {
        "trusted": true,
        "id": "6N4Af0IXNiB9",
        "colab": {
          "base_uri": "https://localhost:8080/"
        },
        "outputId": "3741badd-8982-4628-fc88-91a532833d21"
      },
      "execution_count": null,
      "outputs": [
        {
          "output_type": "execute_result",
          "data": {
            "text/plain": [
              "0    0\n",
              "1    0\n",
              "2    0\n",
              "3    1\n",
              "4    0\n",
              "Name: Channel, dtype: int64"
            ]
          },
          "metadata": {},
          "execution_count": 68
        }
      ]
    },
    {
      "cell_type": "markdown",
      "source": [
        "- Now, we will convert the dataset into an optimized data structure called **Dmatrix** that XGBoost supports and gives it acclaimed performance and efficiency gains. \n",
        "\n",
        "- We will do it as follows -"
      ],
      "metadata": {
        "id": "UgGbL_OXNiB9"
      }
    },
    {
      "cell_type": "code",
      "source": [
        "# import XGBoost\n",
        "import xgboost as xgb\n",
        "\n",
        "\n",
        "# define data_dmatrix\n",
        "data_dmatrix = xgb.DMatrix(data=X,label=y)"
      ],
      "metadata": {
        "trusted": true,
        "id": "UCLxo9DwNiB-"
      },
      "execution_count": null,
      "outputs": []
    },
    {
      "cell_type": "markdown",
      "source": [
        "## **4.5 Split data into separate training and test set** <a class=\"anchor\" id=\"4.5\"></a>\n",
        "\n",
        "[Table of Contents](#0.1)"
      ],
      "metadata": {
        "id": "Yk8EW9bJNiB-"
      }
    },
    {
      "cell_type": "code",
      "source": [
        "# split X and y into training and testing sets\n",
        "\n",
        "from sklearn.model_selection import train_test_split\n",
        "\n",
        "X_train, X_test, y_train, y_test = train_test_split(X, y, test_size = 0.3, random_state = 0)"
      ],
      "metadata": {
        "trusted": true,
        "id": "8Bj-olOkNiB-"
      },
      "execution_count": null,
      "outputs": []
    },
    {
      "cell_type": "markdown",
      "source": [
        "## **4.6  Train the XGBoost Classifier** <a class=\"anchor\" id=\"4.6\"></a>\n",
        "\n",
        "[Table of Contents](#0.1)\n",
        "\n",
        "- In order to train the XGBoost classifier, we need to know different parameters that XGBoost provides.\n",
        "\n",
        "- We will discuss these parameters in the next kernel.\n",
        "\n",
        "- Now, its time to train the XGBoost Classifier.\n",
        "\n",
        "- We will proceed as follows -"
      ],
      "metadata": {
        "id": "ju-Fj-sBNiB-"
      }
    },
    {
      "cell_type": "code",
      "source": [
        "# import XGBClassifier\n",
        "from xgboost import XGBClassifier\n",
        "\n",
        "\n",
        "# declare parameters\n",
        "params = {\n",
        "            'objective':'binary:logistic',\n",
        "            'max_depth': 4,\n",
        "            'alpha': 10,\n",
        "            'learning_rate': 1.0,\n",
        "            'n_estimators':100\n",
        "        }         \n",
        "           \n",
        "          \n",
        "# instantiate the classifier \n",
        "xgb_clf = XGBClassifier(**params)\n",
        "\n",
        "\n",
        "# fit the classifier to the training data\n",
        "xgb_clf.fit(X_train, y_train)"
      ],
      "metadata": {
        "trusted": true,
        "id": "f6P359m4NiB-",
        "colab": {
          "base_uri": "https://localhost:8080/"
        },
        "outputId": "db6d8294-4637-4a35-ac5a-e798c7afb390"
      },
      "execution_count": null,
      "outputs": [
        {
          "output_type": "execute_result",
          "data": {
            "text/plain": [
              "XGBClassifier(alpha=10, learning_rate=1.0, max_depth=4)"
            ]
          },
          "metadata": {},
          "execution_count": 71
        }
      ]
    },
    {
      "cell_type": "code",
      "source": [
        "# we can view the parameters of the xgb trained model as follows -\n",
        "\n",
        "print(xgb_clf)"
      ],
      "metadata": {
        "trusted": true,
        "id": "-Y9nVmQ2NiB-",
        "colab": {
          "base_uri": "https://localhost:8080/"
        },
        "outputId": "ad51572a-3aea-4674-f781-6d867d32122f"
      },
      "execution_count": null,
      "outputs": [
        {
          "output_type": "stream",
          "name": "stdout",
          "text": [
            "XGBClassifier(alpha=10, learning_rate=1.0, max_depth=4)\n"
          ]
        }
      ]
    },
    {
      "cell_type": "markdown",
      "source": [
        "## **4.7 Make predictions with XGBoost Classifier** <a class=\"anchor\" id=\"4.7\"></a>\n",
        "\n",
        "[Table of Contents](#0.1)"
      ],
      "metadata": {
        "id": "fKRoTGc6NiB-"
      }
    },
    {
      "cell_type": "code",
      "source": [
        "# make predictions on test data\n",
        "\n",
        "y_pred = xgb_clf.predict(X_test)"
      ],
      "metadata": {
        "trusted": true,
        "id": "9fHdaPtNNiB-"
      },
      "execution_count": null,
      "outputs": []
    },
    {
      "cell_type": "markdown",
      "source": [
        "## **4.8 Check accuracy score** <a class=\"anchor\" id=\"4.8\"></a>\n",
        "\n",
        "\n",
        "[Table of Contents](#0.1)"
      ],
      "metadata": {
        "id": "Pb1LfVWsNiB_"
      }
    },
    {
      "cell_type": "code",
      "source": [
        "# compute and print accuracy score\n",
        "\n",
        "from sklearn.metrics import accuracy_score\n",
        "\n",
        "print('XGBoost model accuracy score: {0:0.4f}'. format(accuracy_score(y_test, y_pred)))"
      ],
      "metadata": {
        "trusted": true,
        "id": "jln0sljsNiB_",
        "colab": {
          "base_uri": "https://localhost:8080/"
        },
        "outputId": "933cd120-a4d3-42f0-f0ba-3b62fff4320b"
      },
      "execution_count": null,
      "outputs": [
        {
          "output_type": "stream",
          "name": "stdout",
          "text": [
            "XGBoost model accuracy score: 0.9167\n"
          ]
        }
      ]
    },
    {
      "cell_type": "markdown",
      "source": [
        "We can see that XGBoost obtain very high accuracy score of 91.67%."
      ],
      "metadata": {
        "id": "zQ7nGKwMNiB_"
      }
    },
    {
      "cell_type": "markdown",
      "source": [
        "# **5. k-fold Cross Validation using XGBoost** <a class=\"anchor\" id=\"5\"></a>\n",
        "\n",
        "\n",
        "[Table of Contents](#0.1)\n",
        "\n",
        "\n",
        "- To build more robust models with XGBoost, we should always perform k-fold cross validation. \n",
        "\n",
        "- In this way, we ensure that the original training dataset is used for both training and validation. \n",
        "\n",
        "- Also, each entry is used for validation just once. \n",
        "\n",
        "- XGBoost supports k-fold cross validation using the cv() method. \n",
        "\n",
        "- In this method, we will specify several parameters which are as follows:-\n",
        "\n",
        "  - **nfolds** - This parameter specifies the number of cross-validation sets we want to build.\n",
        "\n",
        "  - **num_boost_round** - It denotes the number of trees we build.\n",
        "\n",
        "  - **metrics** - It is the performance evaluation metrics to be considered during CV.\n",
        "\n",
        "  - **as_pandas** - It is used to return the results in a pandas DataFrame.\n",
        "\n",
        "  - **early_stopping_rounds** - This parameter stops training of the model early if the hold-out metric does not improve for a given number of rounds.\n",
        "\n",
        "  - **seed** - This parameter is used for reproducibility of results.\n",
        "\n",
        "We can use these parameters to build a k-fold cross-validation model by calling XGBoost's CV() method."
      ],
      "metadata": {
        "id": "qmllorv7NiB_"
      }
    },
    {
      "cell_type": "code",
      "source": [
        "from xgboost import cv\n",
        "\n",
        "params = {\"objective\":\"binary:logistic\",'colsample_bytree': 0.3,'learning_rate': 0.1,\n",
        "                'max_depth': 5, 'alpha': 10}\n",
        "\n",
        "xgb_cv = cv(dtrain=data_dmatrix, params=params, nfold=3,\n",
        "                    num_boost_round=50, early_stopping_rounds=10, metrics=\"auc\", as_pandas=True, seed=123)"
      ],
      "metadata": {
        "trusted": true,
        "id": "Mq6NXJ6kNiB_"
      },
      "execution_count": null,
      "outputs": []
    },
    {
      "cell_type": "markdown",
      "source": [
        "- **xgb_cv** contains train and test auc metrics for each boosting round. \n",
        "\n",
        "- Let's preview **xgb_cv**."
      ],
      "metadata": {
        "id": "E0Cep1dZNiB_"
      }
    },
    {
      "cell_type": "code",
      "source": [
        "xgb_cv.head()"
      ],
      "metadata": {
        "trusted": true,
        "id": "eTWVOWUINiB_",
        "colab": {
          "base_uri": "https://localhost:8080/",
          "height": 206
        },
        "outputId": "a85c555f-092a-418f-b3b6-2fc21ec7cc47"
      },
      "execution_count": null,
      "outputs": [
        {
          "output_type": "execute_result",
          "data": {
            "text/plain": [
              "   train-auc-mean  train-auc-std  test-auc-mean  test-auc-std\n",
              "0        0.917860       0.006809       0.888360      0.037170\n",
              "1        0.920484       0.011244       0.886998      0.037300\n",
              "2        0.931564       0.003005       0.882138      0.041967\n",
              "3        0.943088       0.017875       0.891426      0.053799\n",
              "4        0.940179       0.024116       0.885100      0.055394"
            ],
            "text/html": [
              "\n",
              "  <div id=\"df-c6c6c7cf-080d-4af2-b197-7a984f06ea0b\">\n",
              "    <div class=\"colab-df-container\">\n",
              "      <div>\n",
              "<style scoped>\n",
              "    .dataframe tbody tr th:only-of-type {\n",
              "        vertical-align: middle;\n",
              "    }\n",
              "\n",
              "    .dataframe tbody tr th {\n",
              "        vertical-align: top;\n",
              "    }\n",
              "\n",
              "    .dataframe thead th {\n",
              "        text-align: right;\n",
              "    }\n",
              "</style>\n",
              "<table border=\"1\" class=\"dataframe\">\n",
              "  <thead>\n",
              "    <tr style=\"text-align: right;\">\n",
              "      <th></th>\n",
              "      <th>train-auc-mean</th>\n",
              "      <th>train-auc-std</th>\n",
              "      <th>test-auc-mean</th>\n",
              "      <th>test-auc-std</th>\n",
              "    </tr>\n",
              "  </thead>\n",
              "  <tbody>\n",
              "    <tr>\n",
              "      <th>0</th>\n",
              "      <td>0.917860</td>\n",
              "      <td>0.006809</td>\n",
              "      <td>0.888360</td>\n",
              "      <td>0.037170</td>\n",
              "    </tr>\n",
              "    <tr>\n",
              "      <th>1</th>\n",
              "      <td>0.920484</td>\n",
              "      <td>0.011244</td>\n",
              "      <td>0.886998</td>\n",
              "      <td>0.037300</td>\n",
              "    </tr>\n",
              "    <tr>\n",
              "      <th>2</th>\n",
              "      <td>0.931564</td>\n",
              "      <td>0.003005</td>\n",
              "      <td>0.882138</td>\n",
              "      <td>0.041967</td>\n",
              "    </tr>\n",
              "    <tr>\n",
              "      <th>3</th>\n",
              "      <td>0.943088</td>\n",
              "      <td>0.017875</td>\n",
              "      <td>0.891426</td>\n",
              "      <td>0.053799</td>\n",
              "    </tr>\n",
              "    <tr>\n",
              "      <th>4</th>\n",
              "      <td>0.940179</td>\n",
              "      <td>0.024116</td>\n",
              "      <td>0.885100</td>\n",
              "      <td>0.055394</td>\n",
              "    </tr>\n",
              "  </tbody>\n",
              "</table>\n",
              "</div>\n",
              "      <button class=\"colab-df-convert\" onclick=\"convertToInteractive('df-c6c6c7cf-080d-4af2-b197-7a984f06ea0b')\"\n",
              "              title=\"Convert this dataframe to an interactive table.\"\n",
              "              style=\"display:none;\">\n",
              "        \n",
              "  <svg xmlns=\"http://www.w3.org/2000/svg\" height=\"24px\"viewBox=\"0 0 24 24\"\n",
              "       width=\"24px\">\n",
              "    <path d=\"M0 0h24v24H0V0z\" fill=\"none\"/>\n",
              "    <path d=\"M18.56 5.44l.94 2.06.94-2.06 2.06-.94-2.06-.94-.94-2.06-.94 2.06-2.06.94zm-11 1L8.5 8.5l.94-2.06 2.06-.94-2.06-.94L8.5 2.5l-.94 2.06-2.06.94zm10 10l.94 2.06.94-2.06 2.06-.94-2.06-.94-.94-2.06-.94 2.06-2.06.94z\"/><path d=\"M17.41 7.96l-1.37-1.37c-.4-.4-.92-.59-1.43-.59-.52 0-1.04.2-1.43.59L10.3 9.45l-7.72 7.72c-.78.78-.78 2.05 0 2.83L4 21.41c.39.39.9.59 1.41.59.51 0 1.02-.2 1.41-.59l7.78-7.78 2.81-2.81c.8-.78.8-2.07 0-2.86zM5.41 20L4 18.59l7.72-7.72 1.47 1.35L5.41 20z\"/>\n",
              "  </svg>\n",
              "      </button>\n",
              "      \n",
              "  <style>\n",
              "    .colab-df-container {\n",
              "      display:flex;\n",
              "      flex-wrap:wrap;\n",
              "      gap: 12px;\n",
              "    }\n",
              "\n",
              "    .colab-df-convert {\n",
              "      background-color: #E8F0FE;\n",
              "      border: none;\n",
              "      border-radius: 50%;\n",
              "      cursor: pointer;\n",
              "      display: none;\n",
              "      fill: #1967D2;\n",
              "      height: 32px;\n",
              "      padding: 0 0 0 0;\n",
              "      width: 32px;\n",
              "    }\n",
              "\n",
              "    .colab-df-convert:hover {\n",
              "      background-color: #E2EBFA;\n",
              "      box-shadow: 0px 1px 2px rgba(60, 64, 67, 0.3), 0px 1px 3px 1px rgba(60, 64, 67, 0.15);\n",
              "      fill: #174EA6;\n",
              "    }\n",
              "\n",
              "    [theme=dark] .colab-df-convert {\n",
              "      background-color: #3B4455;\n",
              "      fill: #D2E3FC;\n",
              "    }\n",
              "\n",
              "    [theme=dark] .colab-df-convert:hover {\n",
              "      background-color: #434B5C;\n",
              "      box-shadow: 0px 1px 3px 1px rgba(0, 0, 0, 0.15);\n",
              "      filter: drop-shadow(0px 1px 2px rgba(0, 0, 0, 0.3));\n",
              "      fill: #FFFFFF;\n",
              "    }\n",
              "  </style>\n",
              "\n",
              "      <script>\n",
              "        const buttonEl =\n",
              "          document.querySelector('#df-c6c6c7cf-080d-4af2-b197-7a984f06ea0b button.colab-df-convert');\n",
              "        buttonEl.style.display =\n",
              "          google.colab.kernel.accessAllowed ? 'block' : 'none';\n",
              "\n",
              "        async function convertToInteractive(key) {\n",
              "          const element = document.querySelector('#df-c6c6c7cf-080d-4af2-b197-7a984f06ea0b');\n",
              "          const dataTable =\n",
              "            await google.colab.kernel.invokeFunction('convertToInteractive',\n",
              "                                                     [key], {});\n",
              "          if (!dataTable) return;\n",
              "\n",
              "          const docLinkHtml = 'Like what you see? Visit the ' +\n",
              "            '<a target=\"_blank\" href=https://colab.research.google.com/notebooks/data_table.ipynb>data table notebook</a>'\n",
              "            + ' to learn more about interactive tables.';\n",
              "          element.innerHTML = '';\n",
              "          dataTable['output_type'] = 'display_data';\n",
              "          await google.colab.output.renderOutput(dataTable, element);\n",
              "          const docLink = document.createElement('div');\n",
              "          docLink.innerHTML = docLinkHtml;\n",
              "          element.appendChild(docLink);\n",
              "        }\n",
              "      </script>\n",
              "    </div>\n",
              "  </div>\n",
              "  "
            ]
          },
          "metadata": {},
          "execution_count": 76
        }
      ]
    },
    {
      "cell_type": "markdown",
      "source": [
        "# **6. Feature importance with XGBoost** <a class=\"anchor\" id=\"6\"></a>\n",
        "\n",
        "[Table of Contents](#0.1)\n",
        "\n",
        "\n",
        "- XGBoost provides a way to examine the importance of each feature in the original dataset within the model. \n",
        "\n",
        "- It involves counting the number of times each feature is split on across all boosting trees in the model. \n",
        "\n",
        "- Then we visualize the result as a bar graph, with the features ordered according to how many times they appear.\n",
        "\n",
        "- XGBoost has a **plot_importance()** function that helps us to achieve this task. \n",
        "\n",
        "- Then we can visualize the features that has been given the highest important score among all the features. \n",
        "\n",
        "- Thus XGBoost provides us a way to do feature selection.\n",
        "\n",
        "- We will proceed as follows:-"
      ],
      "metadata": {
        "id": "6ohxZYUVNiCA"
      }
    },
    {
      "cell_type": "code",
      "source": [
        "xgb.plot_importance(xgb_clf)\n",
        "plt.figure(figsize = (16, 12))\n",
        "plt.show()"
      ],
      "metadata": {
        "trusted": true,
        "id": "T14YxOlTNiCA",
        "colab": {
          "base_uri": "https://localhost:8080/",
          "height": 312
        },
        "outputId": "ce5e1d91-887c-4f48-e27c-162f7c5a3116"
      },
      "execution_count": null,
      "outputs": [
        {
          "output_type": "display_data",
          "data": {
            "text/plain": [
              "<Figure size 432x288 with 1 Axes>"
            ],
            "image/png": "[encoded data removed]"
          },
          "metadata": {
            "needs_background": "light"
          }
        },
        {
          "output_type": "display_data",
          "data": {
            "text/plain": [
              "<Figure size 1152x864 with 0 Axes>"
            ]
          },
          "metadata": {}
        }
      ]
    },
    {
      "cell_type": "markdown",
      "source": [
        "- We can see that the feature `Delicassesn` has been given the highest importance score among all the features. \n",
        "\n",
        "- Based upon this importance score, we can select the features with highest importance score and discard the redundant ones.\n",
        "\n",
        "- Thus XGBoost also gives us a way to do feature selection."
      ],
      "metadata": {
        "id": "Fqegxmt8NiCA"
      }
    },
    {
      "cell_type": "markdown",
      "source": [
        "# **7. Results and Conclusion** <a class=\"anchor\" id=\"7\"></a>\n",
        "\n",
        "[Table of Contents](#0.1)\n",
        "\n",
        "\n",
        "- In this kernel, we implement XGBoost with Python and Scikit-Learn to classify the customers from two different channels as Horeca (Hotel/Retail/Café) customers or Retail channel (nominal) customers.\n",
        "\n",
        "- The y labels contain values as 1 and 2. We have converted them into 0 and 1 for further analysis.\n",
        "\n",
        "- We have trained the XGBoost classifier and found the accuracy score to be 91.67%.\n",
        "\n",
        "- We have performed k-fold cross-validation with XGBoost.\n",
        "\n",
        "- We have find the most important feature in XGBoost. We did it using the plot_importance() function in XGBoost that helps us to achieve this task.\n",
        "\n"
      ],
      "metadata": {
        "id": "x4vPMLbqNiCA"
      }
    },
    {
      "cell_type": "markdown",
      "source": [
        "# **8. References** <a class=\"anchor\" id=\"8\"></a>\n",
        "\n",
        "[Table of Contents](#0.1)\n",
        "\n",
        "\n",
        "The ideas and concepts in this kernel are taken from the following websites -\n",
        "\n",
        "-\thttps://www.datacamp.com/community/tutorials/xgboost-in-python\n",
        "\n",
        "-\thttps://blog.cambridgespark.com/getting-started-with-xgboost-3ba1488bb7d4\n",
        "\n",
        "-\thttps://towardsdatascience.com/a-beginners-guide-to-xgboost-87f5d4c30ed7\n",
        "\n",
        "-\thttps://heartbeat.fritz.ai/boosting-your-machine-learning-models-using-xgboost-d2cabb3e948f\n",
        "\n",
        "-\thttps://towardsdatascience.com/https-medium-com-vishalmorde-xgboost-algorithm-long-she-may-rein-edd9f99be63d\n",
        "\n",
        "-   https://medium.com/@gabrieltseng/gradient-boosting-and-xgboost-c306c1bcfaf5\n",
        "\n",
        "-   https://medium.com/mlreview/gradient-boosting-from-scratch-1e317ae4587d"
      ],
      "metadata": {
        "id": "zyBOPQN3NiCA"
      }
    },
    {
      "cell_type": "markdown",
      "source": [
        "So, now we will come to the end of this kernel.\n",
        "\n",
        "I hope you find this kernel useful and enjoyable.\n",
        "\n",
        "Your comments and feedback are most welcome.\n",
        "\n",
        "Thank you\n"
      ],
      "metadata": {
        "id": "zFGQxoaKNiCA"
      }
    },
    {
      "cell_type": "markdown",
      "source": [
        "[Go to Top](#0)"
      ],
      "metadata": {
        "id": "KQoXajBiNiCA"
      }
    }
  ]
}